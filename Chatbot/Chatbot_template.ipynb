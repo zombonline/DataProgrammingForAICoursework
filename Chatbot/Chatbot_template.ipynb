{
 "cells": [
  {
   "cell_type": "markdown",
   "id": "12abf911-fdb0-4366-9432-06890e6583bb",
   "metadata": {},
   "source": [
    "1. Write a approx 750-800 (3PAGE) word description of: \n",
    "    - Chatbot application (e.g., use-case, domain of operation).\n",
    "    - Atleast 3 different test cases that clearly illustrate chatbot behavior.\n",
    "    - How you connected your work to lecture material \n",
    "    - Advanced techniques that you used\n",
    "\n",
    "If you are submitting a PDF, please mention that here. \n",
    "\n",
    "-----------------------------------------------------\n",
    "##### PASTE YOUR TEXT HERE\n",
    "-----------------------------------------------------"
   ]
  },
  {
   "cell_type": "markdown",
   "id": "5d6c8ee0-a1c0-4ee6-8731-393f29625934",
   "metadata": {},
   "source": [
    "------------\n",
    "2. CODE\n",
    "-----------"
   ]
  },
  {
   "cell_type": "code",
   "execution_count": 22,
   "id": "c227e4dc-04e3-43ac-a684-085844efead5",
   "metadata": {},
   "outputs": [],
   "source": [
    "# PASTE THE CODE \n",
    "# Make this easy for user testing - Running this cell should load all code for Chatbot.\n",
    "\n",
    "\n"
   ]
  },
  {
   "cell_type": "code",
   "execution_count": 1,
   "id": "afd2774a-bd82-48db-8323-350604a3d5c1",
   "metadata": {},
   "outputs": [],
   "source": [
    "# ATLEAST 3 INTERESTING RESULTS - AND FUNCTION CALLS TO GENERATE THEM\n"
   ]
  },
  {
   "cell_type": "markdown",
   "id": "5ae694cd-f0e4-40df-94e6-e374305e8b71",
   "metadata": {},
   "source": [
    "3. Reflect on project management (approx 250 words) \n",
    "    - Timeliness: Reflect on how consistently you made an effort meet deadlines\n",
    "    - Organization: Reflect on how managed the code-base as the project size increased\n",
    "\n",
    "-----------------------------------------------------\n",
    "\n",
    "Reflection goes here\n",
    "\n",
    "-----------------------------------------------------\n"
   ]
  },
  {
   "cell_type": "markdown",
   "id": "1d941797-c8b7-4ba5-a012-166ba78ac154",
   "metadata": {},
   "source": [
    "4. Process reflection (approx 200 words) - Discuss the week by week iterative development of your chatbot.\n",
    "    - Describe each week of chatbot devleopment.\n",
    "    - What was the feedback you received? How did you work on the feedback to improve chatbot? What new features did you add? \n",
    "\n",
    "-----------------------------------------------------\n",
    "\n",
    "Reflection goes here\n",
    "\n",
    "-----------------------------------------------------\n"
   ]
  },
  {
   "cell_type": "code",
   "execution_count": null,
   "id": "33ff9142-f641-47e4-808a-ba45374734fa",
   "metadata": {},
   "outputs": [],
   "source": []
  },
  {
   "cell_type": "code",
   "execution_count": null,
   "id": "fe21a4dd-0ab1-4e7c-be69-32f74b8ab47f",
   "metadata": {},
   "outputs": [],
   "source": []
  }
 ],
 "metadata": {
  "kernelspec": {
   "display_name": "dp4ai",
   "language": "python",
   "name": "dp4ai"
  },
  "language_info": {
   "codemirror_mode": {
    "name": "ipython",
    "version": 3
   },
   "file_extension": ".py",
   "mimetype": "text/x-python",
   "name": "python",
   "nbconvert_exporter": "python",
   "pygments_lexer": "ipython3",
   "version": "3.12.1"
  }
 },
 "nbformat": 4,
 "nbformat_minor": 5
}
