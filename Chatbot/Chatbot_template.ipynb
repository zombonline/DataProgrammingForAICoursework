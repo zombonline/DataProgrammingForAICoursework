{
 "cells": [
  {
   "cell_type": "markdown",
   "id": "12abf911-fdb0-4366-9432-06890e6583bb",
   "metadata": {},
   "source": [
    "1. Write a approx 750-800 (3PAGE) word description of: \n",
    "    - Chatbot application (e.g., use-case, domain of operation).\n",
    "    - Atleast 3 different test cases that clearly illustrate chatbot behavior.\n",
    "    - How you connected your work to lecture material \n",
    "    - Advanced techniques that you used\n",
    "\n",
    "If you are submitting a PDF, please mention that here. \n",
    "\n",
    "-----------------------------------------------------\n",
    "##### PASTE YOUR TEXT HERE\n",
    "-----------------------------------------------------"
   ]
  },
  {
   "cell_type": "markdown",
   "id": "5d6c8ee0-a1c0-4ee6-8731-393f29625934",
   "metadata": {},
   "source": [
    "------------\n",
    "2. CODE\n",
    "-----------"
   ]
  },
  {
   "cell_type": "code",
   "execution_count": null,
   "id": "c227e4dc-04e3-43ac-a684-085844efead5",
   "metadata": {
    "scrolled": true
   },
   "outputs": [
    {
     "name": "stdout",
     "output_type": "stream",
     "text": [
      "Frank: Hello! My name is Frank! How can I help?\n"
     ]
    },
    {
     "ename": "ValueError",
     "evalue": "empty separator",
     "output_type": "error",
     "traceback": [
      "\u001b[1;31m---------------------------------------------------------------------------\u001b[0m",
      "\u001b[1;31mValueError\u001b[0m                                Traceback (most recent call last)",
      "Cell \u001b[1;32mIn[3], line 76\u001b[0m\n\u001b[0;32m     74\u001b[0m memories \u001b[38;5;241m=\u001b[39m {}\n\u001b[0;32m     75\u001b[0m data \u001b[38;5;241m=\u001b[39m load_json()\n\u001b[1;32m---> 76\u001b[0m interaction_loop()\n",
      "Cell \u001b[1;32mIn[3], line 48\u001b[0m, in \u001b[0;36minteraction_loop\u001b[1;34m()\u001b[0m\n\u001b[0;32m     46\u001b[0m action \u001b[38;5;241m=\u001b[39m match_intent_to_action(intent)\n\u001b[0;32m     47\u001b[0m \u001b[38;5;28;01mif\u001b[39;00m action \u001b[38;5;129;01mand\u001b[39;00m action \u001b[38;5;129;01min\u001b[39;00m \u001b[38;5;28mglobals\u001b[39m():\n\u001b[1;32m---> 48\u001b[0m     \u001b[38;5;28mglobals\u001b[39m()[action](user_input)\n\u001b[0;32m     49\u001b[0m response \u001b[38;5;241m=\u001b[39m match_intent_to_response(intent)\n\u001b[0;32m     50\u001b[0m \u001b[38;5;28mprint\u001b[39m(\u001b[38;5;124m\"\u001b[39m\u001b[38;5;124mFrank: \u001b[39m\u001b[38;5;124m\"\u001b[39m \u001b[38;5;241m+\u001b[39m response\u001b[38;5;241m.\u001b[39mformat(\u001b[38;5;241m*\u001b[39m\u001b[38;5;241m*\u001b[39mmemories)) \n",
      "Cell \u001b[1;32mIn[3], line 65\u001b[0m, in \u001b[0;36mremember_likes\u001b[1;34m(input)\u001b[0m\n\u001b[0;32m     63\u001b[0m likes_re \u001b[38;5;241m=\u001b[39m\u001b[38;5;124mr\u001b[39m\u001b[38;5;124m\"\u001b[39m\u001b[38;5;124mi like|I love|I enjoy|I\u001b[39m\u001b[38;5;124m'\u001b[39m\u001b[38;5;124mm a fan of|I\u001b[39m\u001b[38;5;124m'\u001b[39m\u001b[38;5;124mm a big fan of|I\u001b[39m\u001b[38;5;124m'\u001b[39m\u001b[38;5;124mm a huge fan\u001b[39m\u001b[38;5;124m\"\u001b[39m\n\u001b[0;32m     64\u001b[0m likes \u001b[38;5;241m=\u001b[39m re\u001b[38;5;241m.\u001b[39msub(likes_re, \u001b[38;5;124m\"\u001b[39m\u001b[38;5;124m\"\u001b[39m, \u001b[38;5;28minput\u001b[39m)\n\u001b[1;32m---> 65\u001b[0m likes \u001b[38;5;241m=\u001b[39m likes\u001b[38;5;241m.\u001b[39msplit(\u001b[38;5;124m\"\u001b[39m\u001b[38;5;124m\"\u001b[39m)\n\u001b[0;32m     66\u001b[0m \u001b[38;5;28;01mif\u001b[39;00m memories\u001b[38;5;241m.\u001b[39mget(\u001b[38;5;124m\"\u001b[39m\u001b[38;5;124mlikes\u001b[39m\u001b[38;5;124m\"\u001b[39m):\n\u001b[0;32m     67\u001b[0m     memories[\u001b[38;5;124m\"\u001b[39m\u001b[38;5;124mlikes\u001b[39m\u001b[38;5;124m\"\u001b[39m]\u001b[38;5;241m.\u001b[39mextend(likes)\n",
      "\u001b[1;31mValueError\u001b[0m: empty separator"
     ]
    }
   ],
   "source": [
    "# PASTE THE CODE \n",
    "# Make this easy for user testing - Running this cell should load all code for Chatbot.\n",
    "from random import Random\n",
    "import re\n",
    "import json\n",
    "\n",
    "def load_json():\n",
    "    with open(\"chatbot.json\") as file:\n",
    "        data = json.load(file)\n",
    "    return data\n",
    "\n",
    "def match_pattern_to_intent(user_input):\n",
    "    intent = None\n",
    "    for pattern_to_intent in data[\"pattern_to_intent\"]:\n",
    "        if re.search(pattern_to_intent[\"pattern\"], user_input):\n",
    "            intent = pattern_to_intent[\"intent\"]\n",
    "            break\n",
    "    return intent\n",
    "\n",
    "def match_intent_to_response(intent):   \n",
    "    response = None\n",
    "    if intent in data[\"intent_to_response\"]:\n",
    "        responseList = data[\"intent_to_response\"][intent]\n",
    "        response = responseList[Random().randint(0, len(responseList) - 1)]\n",
    "    return response\n",
    "def match_intent_to_action(intent):\n",
    "    action = None\n",
    "    if intent in data[\"intent_to_action\"]:\n",
    "        action = data[\"intent_to_action\"][intent]\n",
    "    return action\n",
    "def get_user_confirmation(prompt):\n",
    "    print(\"Frank: \" + prompt)\n",
    "    user_input = input(\"You: \").lower()\n",
    "    if match_pattern_to_intent(user_input) == \"positive\":\n",
    "        return True\n",
    "    elif match_pattern_to_intent(user_input) == \"negative\":\n",
    "        return False\n",
    "    else:\n",
    "        return None\n",
    "def interaction_loop():\n",
    "    print(\"Frank: Hello! My name is Frank! How can I help?\")\n",
    "    while True:\n",
    "        user_input = input(\"You: \").lower()\n",
    "        intent = match_pattern_to_intent(user_input)\n",
    "        if intent:\n",
    "            action = match_intent_to_action(intent)\n",
    "            if action and action in globals():\n",
    "                globals()[action](user_input)\n",
    "            response = match_intent_to_response(intent)\n",
    "            print(\"Frank: \" + response.format(**memories)) \n",
    "        else:\n",
    "            print(\"Frank: \" + \"I'm sorry, I don't understand that. Can you please rephrase?\")\n",
    "#INTENT FUNCTIONS\n",
    "def remember_name(input):\n",
    "    user_name_re = r\"my name is|I am|I'm|call me\"\n",
    "    user_name = re.sub(user_name_re, \"\", input).split()[0]\n",
    "    if memories.get(\"user_name\") and memories[\"user_name\"].lower() != user_name:\n",
    "        if not get_user_confirmation(\"Frank: Hold up, I thought your name was {}, would you like to change this?\".format(memories[\"user_name\"])):\n",
    "            return\n",
    "    memories.update({\"user_name\": user_name.capitalize()})\n",
    "def remember_likes(input):\n",
    "    #TODO: Implement this functions\n",
    "    likes_re =r\"i like|I love|I enjoy|I'm a fan of|I'm a big fan of|I'm a huge fan\"\n",
    "    likes = re.sub(likes_re, \"\", input)\n",
    "    likes = likes.split()\n",
    "    if memories.get(\"likes\"):\n",
    "        memories[\"likes\"].extend(likes)\n",
    "    else:\n",
    "        memories[\"likes\"] = likes\n",
    "    \n",
    "\n",
    "\n",
    "    \n",
    "memories = {}\n",
    "data = load_json()\n",
    "interaction_loop()"
   ]
  },
  {
   "cell_type": "code",
   "execution_count": 5,
   "id": "afd2774a-bd82-48db-8323-350604a3d5c1",
   "metadata": {},
   "outputs": [],
   "source": [
    "# ATLEAST 3 INTERESTING RESULTS - AND FUNCTION CALLS TO GENERATE THEM\n"
   ]
  },
  {
   "cell_type": "markdown",
   "id": "5ae694cd-f0e4-40df-94e6-e374305e8b71",
   "metadata": {},
   "source": [
    "3. Reflect on project management (approx 250 words) \n",
    "    - Timeliness: Reflect on how consistently you made an effort meet deadlines\n",
    "    - Organization: Reflect on how managed the code-base as the project size increased\n",
    "\n",
    "-----------------------------------------------------\n",
    "\n",
    "Reflection goes here\n",
    "\n",
    "-----------------------------------------------------\n"
   ]
  },
  {
   "cell_type": "markdown",
   "id": "1d941797-c8b7-4ba5-a012-166ba78ac154",
   "metadata": {},
   "source": [
    "4. Process reflection (approx 200 words) - Discuss the week by week iterative development of your chatbot.\n",
    "    - Describe each week of chatbot devleopment.\n",
    "    - What was the feedback you received? How did you work on the feedback to improve chatbot? What new features did you add? \n",
    "\n",
    "-----------------------------------------------------\n",
    "\n",
    "Reflection goes here\n",
    "\n",
    "-----------------------------------------------------\n"
   ]
  },
  {
   "cell_type": "code",
   "execution_count": null,
   "id": "33ff9142-f641-47e4-808a-ba45374734fa",
   "metadata": {},
   "outputs": [],
   "source": []
  },
  {
   "cell_type": "code",
   "execution_count": null,
   "id": "fe21a4dd-0ab1-4e7c-be69-32f74b8ab47f",
   "metadata": {},
   "outputs": [],
   "source": []
  }
 ],
 "metadata": {
  "kernelspec": {
   "display_name": "Python 3 (ipykernel)",
   "language": "python",
   "name": "python3"
  },
  "language_info": {
   "codemirror_mode": {
    "name": "ipython",
    "version": 3
   },
   "file_extension": ".py",
   "mimetype": "text/x-python",
   "name": "python",
   "nbconvert_exporter": "python",
   "pygments_lexer": "ipython3",
   "version": "3.12.5"
  }
 },
 "nbformat": 4,
 "nbformat_minor": 5
}
